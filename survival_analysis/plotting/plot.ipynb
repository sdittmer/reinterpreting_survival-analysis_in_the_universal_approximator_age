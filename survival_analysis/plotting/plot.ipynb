{
 "cells": [
  {
   "cell_type": "code",
   "execution_count": null,
   "id": "50aaa458-b8c5-46f7-8074-d936f1cd2db9",
   "metadata": {},
   "outputs": [],
   "source": [
    "import os\n",
    "import nbimporter\n",
    "\n",
    "root = os.getcwd().split(\"survival_analysis\")[0]\n",
    "os.chdir(root + \"survival_analysis\")"
   ]
  },
  {
   "cell_type": "code",
   "execution_count": null,
   "id": "e8ea1bf9-2896-4b17-a807-1c56193a3752",
   "metadata": {},
   "outputs": [],
   "source": [
    "import pickle\n",
    "import matplotlib.pyplot as plt\n",
    "from collections import defaultdict"
   ]
  },
  {
   "cell_type": "code",
   "execution_count": null,
   "id": "6f08d026-b6ca-4a85-bfee-75ca92e1f004",
   "metadata": {},
   "outputs": [],
   "source": [
    "plt.style.use(\"seaborn-darkgrid\")"
   ]
  },
  {
   "cell_type": "code",
   "execution_count": null,
   "id": "609b1c7e-f0dd-4b48-9046-d2b32ee9f87f",
   "metadata": {},
   "outputs": [],
   "source": [
    "from utils.stats_model import LoadStatsSurvivalModels, StatsSurvivalModelsProcessor\n",
    "from data_and_preprocessing.dfs_generator import Gbsg2Generator, RecurGenerator, LymphGenerator, CaliforniaHousingGenerator"
   ]
  },
  {
   "cell_type": "code",
   "execution_count": null,
   "id": "2ea0556b-7596-441c-9831-7bb4b73d4601",
   "metadata": {},
   "outputs": [],
   "source": [
    "dataset_names = [\"gbsg2\", \"recur\", \"lymph\", \"california\"]"
   ]
  },
  {
   "cell_type": "markdown",
   "id": "54066111-bbad-44b3-8e79-e7092d3c1a87",
   "metadata": {},
   "source": [
    "# Set the dataset for which we will evaluate the models."
   ]
  },
  {
   "cell_type": "code",
   "execution_count": null,
   "id": "8ebb7326-1df4-4024-a639-3ab0f499b336",
   "metadata": {},
   "outputs": [],
   "source": [
    "dataset_name = dataset_names[0]\n",
    "print(dataset_name)"
   ]
  },
  {
   "cell_type": "markdown",
   "id": "27454d38-9859-45ae-b1cb-2f0fe5620006",
   "metadata": {},
   "source": [
    "# Load dataset & models"
   ]
  },
  {
   "cell_type": "code",
   "execution_count": null,
   "id": "1949437d-54aa-4e40-a569-4306a603e8c5",
   "metadata": {},
   "outputs": [],
   "source": [
    "df_generator = pickle.load(open(f\"data_and_preprocessing/df_generator_{dataset_name}.pickle\", \"rb\" ))"
   ]
  },
  {
   "cell_type": "code",
   "execution_count": null,
   "id": "ec93c12d-ef9f-4a3d-8fbe-d9659c48f0d6",
   "metadata": {},
   "outputs": [],
   "source": [
    "stats_survival_models = LoadStatsSurvivalModels()(df_generator.name, resolution=10)\n",
    "stats_survival_models = {name: stats_survival_models[name] for name in sorted(stats_survival_models.keys())}"
   ]
  },
  {
   "cell_type": "markdown",
   "id": "99d78af9-7c36-40b9-8d63-8b26e6948eae",
   "metadata": {},
   "source": [
    "# Compute Metrics"
   ]
  },
  {
   "cell_type": "code",
   "execution_count": null,
   "id": "7aaf05c2-a91a-4712-80ef-705b1fd4f993",
   "metadata": {},
   "outputs": [],
   "source": [
    "%%time\n",
    "\n",
    "processor_valid = StatsSurvivalModelsProcessor(\n",
    "    stats_survival_models=stats_survival_models,\n",
    "    df_generator=df_generator,\n",
    "    part=\"valid\",\n",
    ")\n",
    "df_fcm_valid = processor_valid.get_full_curve_metrics()"
   ]
  },
  {
   "cell_type": "code",
   "execution_count": null,
   "id": "6c3fc06f-adaa-4ea8-9f53-e5971b589d18",
   "metadata": {},
   "outputs": [],
   "source": [
    "%%time\n",
    "\n",
    "processor_test = StatsSurvivalModelsProcessor(\n",
    "    stats_survival_models=stats_survival_models,\n",
    "    df_generator=df_generator,\n",
    "    part=\"test\",\n",
    ")\n",
    "df_fcm_test = processor_test.get_full_curve_metrics()"
   ]
  },
  {
   "cell_type": "markdown",
   "id": "6832cd94-cb50-4247-bebd-afc21206dbbc",
   "metadata": {},
   "source": [
    "# Find best model of each group of models"
   ]
  },
  {
   "cell_type": "code",
   "execution_count": null,
   "id": "cdca2d12-8d2e-4e60-b691-e5795688cef5",
   "metadata": {},
   "outputs": [],
   "source": [
    "def get_groups():\n",
    "    model_names = set(df_fcm_test.index)\n",
    "    model_groups = []\n",
    "\n",
    "    classical_models = {\"Cox_piecewise\", \"Cox_spline\", \"LogLogistic\", \"LogNormal\", \"Weibull\"}\n",
    "    classical_models = {name for name in classical_models if name in model_names}\n",
    "\n",
    "    model_names = model_names - classical_models - {\"KaplanMeier\"}\n",
    "\n",
    "    model_groups = defaultdict(set)\n",
    "\n",
    "    model_groups[\"KaplanMeier\"] = {\"KaplanMeier\"}\n",
    "    if len(classical_models) != 0:\n",
    "        model_groups[\"classical_models\"] = classical_models\n",
    "\n",
    "    for name in model_names:\n",
    "        spl = name.split(\"_\")\n",
    "        assert len(spl) == 2, \"Not exactly one _ in name.\"\n",
    "        model_groups[spl[0]].add(name)\n",
    "\n",
    "    return model_groups\n",
    "\n",
    "\n",
    "def get_best_of_group(model_group):\n",
    "    group_means = df_fcm_valid[\"Mean\"][list(model_group)]\n",
    "    return group_means.idxmax()\n",
    "\n",
    "\n",
    "def get_names_of_relevant_models():\n",
    "    model_groups = get_groups()\n",
    "    model_names = [get_best_of_group(model_group) for _, model_group in model_groups.items()]\n",
    "    return sorted(model_names)\n",
    "\n",
    "\n",
    "model_names = get_names_of_relevant_models()"
   ]
  },
  {
   "cell_type": "markdown",
   "id": "c5e63e72-554a-4b96-a3da-a776d395702a",
   "metadata": {},
   "source": [
    "# Tables & plots for the best models"
   ]
  },
  {
   "cell_type": "code",
   "execution_count": null,
   "id": "44e2cb4b-b84f-4dea-b7e2-9b076f62532c",
   "metadata": {},
   "outputs": [],
   "source": [
    "df_fcm_valid_short = df_fcm_valid.loc[model_names, :]\n",
    "processor_valid.print_full_curve_metrics(df=df_fcm_valid_short)"
   ]
  },
  {
   "cell_type": "code",
   "execution_count": null,
   "id": "51f184f6-4e82-4b2d-8a0f-5919f5657a95",
   "metadata": {},
   "outputs": [],
   "source": [
    "df_fcm_test_short = df_fcm_test.loc[model_names, :]\n",
    "processor_test.print_full_curve_metrics(df=df_fcm_test_short)"
   ]
  },
  {
   "cell_type": "code",
   "execution_count": null,
   "id": "19293454-00ad-47d4-b3df-5b7330b9e62c",
   "metadata": {},
   "outputs": [],
   "source": [
    "processor_valid.plot_metrics(model_names=model_names)"
   ]
  },
  {
   "cell_type": "code",
   "execution_count": null,
   "id": "9697aead-f789-4b52-b657-f0aecea2f9c6",
   "metadata": {},
   "outputs": [],
   "source": [
    "processor_test.plot_metrics(model_names=model_names)"
   ]
  },
  {
   "cell_type": "markdown",
   "id": "6ac5accf-d8b5-4f61-8fe4-dbe9d6e78bd4",
   "metadata": {},
   "source": [
    "# Print and save tables for all models"
   ]
  },
  {
   "cell_type": "code",
   "execution_count": null,
   "id": "46613505-9584-4108-9eb5-7f28922eabdd",
   "metadata": {},
   "outputs": [],
   "source": [
    "processor_valid.print_full_curve_metrics()\n",
    "processor_test.print_full_curve_metrics()"
   ]
  },
  {
   "cell_type": "code",
   "execution_count": null,
   "id": "85893b85-042a-462c-95f0-96435a8bb589",
   "metadata": {},
   "outputs": [],
   "source": [
    "df_all_metrics_valid = processor_valid.get_full_curve_metrics()\n",
    "df_all_metrics_test = processor_test.get_full_curve_metrics()\n",
    "\n",
    "df_all_metrics_valid.to_pickle(f\"plotting/{dataset_name}_valid.pickle\")\n",
    "df_all_metrics_test.to_pickle(f\"plotting/{dataset_name}_test.pickle\")"
   ]
  },
  {
   "cell_type": "code",
   "execution_count": null,
   "id": "243cd77a-4733-4dc6-9b0f-76317c22ceb4",
   "metadata": {},
   "outputs": [],
   "source": []
  }
 ],
 "metadata": {
  "kernelspec": {
   "display_name": "Python 3 (ipykernel)",
   "language": "python",
   "name": "python3"
  }
 },
 "nbformat": 4,
 "nbformat_minor": 5
}
