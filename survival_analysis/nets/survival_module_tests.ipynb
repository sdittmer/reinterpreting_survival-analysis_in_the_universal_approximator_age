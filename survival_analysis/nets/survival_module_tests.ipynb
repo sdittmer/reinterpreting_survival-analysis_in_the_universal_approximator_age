{
 "cells": [
  {
   "cell_type": "code",
   "execution_count": null,
   "id": "c1ca9023-ef05-4e54-a02e-98854bc4976b",
   "metadata": {},
   "outputs": [],
   "source": [
    "import os\n",
    "import nbimporter\n",
    "\n",
    "root = os.getcwd().split(\"survival_analysis\")[0]\n",
    "os.chdir(root + \"survival_analysis\")"
   ]
  },
  {
   "cell_type": "code",
   "execution_count": null,
   "id": "3ba11a7d-494d-4f93-8dc6-f2945f867976",
   "metadata": {},
   "outputs": [],
   "source": [
    "import torch\n",
    "import matplotlib.pyplot as plt"
   ]
  },
  {
   "cell_type": "code",
   "execution_count": null,
   "id": "df2b3a70-eb6f-4ead-8b86-68c031243170",
   "metadata": {},
   "outputs": [],
   "source": [
    "from nets.survival_net import SurvivalNN"
   ]
  },
  {
   "cell_type": "markdown",
   "id": "cdd82573",
   "metadata": {},
   "source": [
    "# Tests"
   ]
  },
  {
   "cell_type": "code",
   "execution_count": null,
   "id": "a242126f-1bbf-4c1f-88cd-5667c40d2f0c",
   "metadata": {},
   "outputs": [],
   "source": [
    "def test_that_we_can_instanciate_and_call_SurvivalNN_and_that_it_is_decreasing_in_time(n=10, plot=True):\n",
    "    for _ in range(n):\n",
    "        model = SurvivalNN(n_input_features=7, n_latent_features=13, t_scaling=28)\n",
    "\n",
    "        ts = torch.linspace(0, 1, 100).view(-1, 1) * 28\n",
    "        xs = torch.randn(1, 7)\n",
    "        xs = torch.repeat_interleave(xs, 100, dim=0)\n",
    "\n",
    "        zs = model(xs=xs, ts=ts)\n",
    "\n",
    "        if plot:\n",
    "            plt.plot(ts.flatten().detach().numpy(), zs.flatten().detach().numpy())\n",
    "            plt.show()\n",
    "        assert torch.all(0 >= zs[1:] - zs[:-1])\n",
    "\n",
    "\n",
    "test_that_we_can_instanciate_and_call_SurvivalNN_and_that_it_is_decreasing_in_time(n=10, plot=False)"
   ]
  },
  {
   "cell_type": "code",
   "execution_count": null,
   "id": "70107f79-e44e-4f52-9bc5-87df614de23d",
   "metadata": {},
   "outputs": [],
   "source": []
  }
 ],
 "metadata": {
  "kernelspec": {
   "display_name": "Python 3 (ipykernel)",
   "language": "python",
   "name": "python3"
  }
 },
 "nbformat": 4,
 "nbformat_minor": 5
}
