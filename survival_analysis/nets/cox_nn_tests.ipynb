{
 "cells": [
  {
   "cell_type": "code",
   "execution_count": null,
   "id": "e325d3ef-f346-45a0-a24e-ec547d132e1d",
   "metadata": {},
   "outputs": [],
   "source": [
    "import os\n",
    "import nbimporter\n",
    "\n",
    "root = os.getcwd().split(\"survival_analysis\")[0]\n",
    "os.chdir(root + \"survival_analysis\")"
   ]
  },
  {
   "cell_type": "code",
   "execution_count": null,
   "id": "8a21ad0e-8ae0-430d-8cc9-8e8ef5f00c77",
   "metadata": {},
   "outputs": [],
   "source": [
    "import torch\n",
    "import numpy as np\n",
    "import matplotlib.pyplot as plt"
   ]
  },
  {
   "cell_type": "code",
   "execution_count": null,
   "id": "023f9045-c59c-4562-af25-d3073c81946a",
   "metadata": {},
   "outputs": [],
   "source": [
    "from nets.cox_nn import CoxNN, CoxTimeDependentNN\n",
    "from nets.monotone_module import MonotonicIncreasingNet, MonotonicIncreasingVectorNet"
   ]
  },
  {
   "cell_type": "markdown",
   "id": "2cea55f8",
   "metadata": {},
   "source": [
    "# CoxNN"
   ]
  },
  {
   "cell_type": "code",
   "execution_count": null,
   "id": "39fe9d9c",
   "metadata": {},
   "outputs": [],
   "source": [
    "def test_run():\n",
    "    cox_model = CoxNN(\n",
    "        n_input_features=37,\n",
    "        monotonic_increasing_net=MonotonicIncreasingNet(latent_sizes=[8, 4, 2]),\n",
    "        t_scaling=28\n",
    "    )\n",
    "\n",
    "    cox_model(torch.randn(32, 37), torch.rand(32, 1))\n",
    "\n",
    "\n",
    "test_run()"
   ]
  },
  {
   "cell_type": "code",
   "execution_count": null,
   "id": "359240a1-122e-4ea9-b23b-a84ff547a662",
   "metadata": {},
   "outputs": [],
   "source": [
    "def test_decreasing(n=10, plot=True, latent_sizes=[8, 4, 2]):\n",
    "    for _ in range(n):\n",
    "        cox_model = CoxNN(\n",
    "            n_input_features=37,\n",
    "            monotonic_increasing_net=MonotonicIncreasingNet(latent_sizes=latent_sizes),\n",
    "            t_scaling=28\n",
    "        )\n",
    "\n",
    "        ts = torch.linspace(0, 1, 100).view(-1, 1) * 28\n",
    "        xs = torch.randn(1, 37)\n",
    "        xs = torch.repeat_interleave(xs, 100, dim=0)\n",
    "        assert xs.shape == (100, 37)\n",
    "\n",
    "        zs = cox_model(xs=xs, ts=ts)\n",
    "\n",
    "        if plot:\n",
    "            plt.plot(ts.flatten().detach().numpy(), zs.flatten().detach().numpy())\n",
    "            plt.show()\n",
    "\n",
    "        assert torch.all(0 >= zs[1:] - zs[:-1])\n",
    "\n",
    "\n",
    "test_decreasing(n=10, plot=False, latent_sizes=[8, 4, 2])"
   ]
  },
  {
   "cell_type": "code",
   "execution_count": null,
   "id": "df4d98ac-c51c-4146-bffe-b407ac8e302b",
   "metadata": {},
   "outputs": [],
   "source": [
    "def test_decreasing():\n",
    "    cox_model = CoxNN(\n",
    "        n_input_features=37,\n",
    "        monotonic_increasing_net=MonotonicIncreasingNet(latent_sizes=[8, 4, 2]),\n",
    "        t_scaling=1\n",
    "    )\n",
    "\n",
    "    optim = torch.optim.Adam(cox_model.parameters())\n",
    "\n",
    "    x = torch.randn(1, 37)\n",
    "    xs = torch.cat([x]*3, dim=0)\n",
    "    ts = torch.linspace(0, 1, 3).view(-1, 1)\n",
    "\n",
    "    for _ in range(100):\n",
    "        results = cox_model(xs, ts)\n",
    "\n",
    "        loss = results[1] - results[-1]\n",
    "        optim.zero_grad()\n",
    "        loss.backward()\n",
    "        optim.step()\n",
    "\n",
    "\n",
    "    results = cox_model( torch.cat([x]*100, dim=0), torch.linspace(0, 1, 100).view(-1, 1))\n",
    "\n",
    "    plt.plot(results[:,0].detach().numpy())\n",
    "\n",
    "    diffs = results[1:,0] - results[:-1,0]\n",
    "    assert torch.all(diffs <= 0), \"CoxDeepNN produced non-decreasing curve\"\n",
    "\n",
    "\n",
    "test_decreasing()"
   ]
  },
  {
   "cell_type": "markdown",
   "id": "8bcdf95b",
   "metadata": {},
   "source": [
    "# CoxTimeDependentNN"
   ]
  },
  {
   "cell_type": "code",
   "execution_count": null,
   "id": "ff858538-ef7d-4858-ad52-35b1052ee802",
   "metadata": {},
   "outputs": [],
   "source": [
    "def test_run():\n",
    "    cox_model = CoxTimeDependentNN(\n",
    "        n_input_features=37,\n",
    "        monotonic_increasing_net_baseline=MonotonicIncreasingNet(latent_sizes=[8, 4, 2]),\n",
    "        monotonic_increasing_net_coefficients=MonotonicIncreasingVectorNet(latent_sizes=[8, 4, 37]),\n",
    "        t_scaling=1\n",
    "    )\n",
    "\n",
    "    results = cox_model(torch.randn(32, 37), torch.linspace(0, 1, 32).view(-1, 1))\n",
    "    results = cox_model(torch.cat([torch.randn(1, 37)]*100, dim=0), torch.linspace(0, 1, 100).view(-1, 1))\n",
    "    assert results.shape == (100, 1)\n",
    "    diffs = results[1:,0] - results[:-1,0]\n",
    "    assert torch.all(diffs <= 0), \"CoxTimeDependentNN produced non-decreasing curve\"\n",
    "\n",
    "\n",
    "for _ in range(100):\n",
    "    test_run()"
   ]
  },
  {
   "cell_type": "code",
   "execution_count": null,
   "id": "9b3762ae-c43e-4ffc-aa5f-8a897b4f5e34",
   "metadata": {},
   "outputs": [],
   "source": [
    "def test_decreasing():\n",
    "    cox_model = CoxTimeDependentNN(\n",
    "        n_input_features=4,\n",
    "        monotonic_increasing_net_baseline=MonotonicIncreasingNet(latent_sizes=[8, 4, 2]),\n",
    "        monotonic_increasing_net_coefficients=MonotonicIncreasingVectorNet(latent_sizes=[8, 4, 4]),\n",
    "        t_scaling=1\n",
    "    )\n",
    "\n",
    "    optim = torch.optim.Adam(cox_model.parameters())\n",
    "\n",
    "    x = torch.randn(1, 4)\n",
    "    xs = torch.cat([x]*3, dim=0)\n",
    "    ts = torch.linspace(0, 1, 3).view(-1, 1)\n",
    "\n",
    "    for _ in range(100):\n",
    "        results = cox_model(xs, ts)\n",
    "\n",
    "        loss = results[1] - results[-1]\n",
    "        optim.zero_grad()\n",
    "        loss.backward()\n",
    "        optim.step()\n",
    "\n",
    "\n",
    "    results = cox_model( torch.cat([x]*100, dim=0), torch.linspace(0, 1, 100).view(-1, 1))\n",
    "\n",
    "    plt.plot(results[:,0].detach().numpy())\n",
    "    plt.show()\n",
    "\n",
    "\n",
    "    diffs = results[1:,0] - results[:-1,0]\n",
    "    assert torch.all(diffs <= 0), \"CoxTimeDependentNN produced non-decreasing curve\"\n",
    "\n",
    "\n",
    "test_decreasing()"
   ]
  },
  {
   "cell_type": "code",
   "execution_count": null,
   "id": "cc1d47a5-726b-41a5-a1ff-33e8abd26d02",
   "metadata": {},
   "outputs": [],
   "source": [
    "def test_decreasing():\n",
    "    cox_model = CoxTimeDependentNN(\n",
    "        n_input_features=4,\n",
    "        monotonic_increasing_net_baseline=MonotonicIncreasingNet(latent_sizes=[8, 4, 2]),\n",
    "        monotonic_increasing_net_coefficients=MonotonicIncreasingVectorNet(latent_sizes=[8, 4, 4]),\n",
    "        t_scaling=1\n",
    "    )\n",
    "\n",
    "    optim = torch.optim.Adam(cox_model.parameters())\n",
    "\n",
    "    x = torch.randn(1, 4)\n",
    "    xs = torch.cat([x]*3, dim=0)\n",
    "    ts = torch.linspace(0, 1, 3).view(-1, 1)\n",
    "\n",
    "    for _ in range(100):\n",
    "        results = cox_model(xs, ts)\n",
    "\n",
    "        loss = (.5 - results[1])**2\n",
    "        optim.zero_grad()\n",
    "        loss.backward()\n",
    "        optim.step()\n",
    "\n",
    "\n",
    "    results = cox_model( torch.cat([x]*100, dim=0), torch.linspace(0, 1, 100).view(-1, 1))\n",
    "\n",
    "    plt.plot(results[:,0].detach().numpy())\n",
    "    plt.show()\n",
    "\n",
    "\n",
    "    diffs = results[1:,0] - results[:-1,0]\n",
    "    assert torch.all(diffs <= 0), \"CoxTimeDependentNN produced non-decreasing curve\"\n",
    "\n",
    "\n",
    "test_decreasing()"
   ]
  },
  {
   "cell_type": "code",
   "execution_count": null,
   "id": "b96d610e-22d0-48c8-8bb0-8a5a62811488",
   "metadata": {},
   "outputs": [],
   "source": []
  }
 ],
 "metadata": {
  "kernelspec": {
   "display_name": "Python 3 (ipykernel)",
   "language": "python",
   "name": "python3"
  }
 },
 "nbformat": 4,
 "nbformat_minor": 5
}
