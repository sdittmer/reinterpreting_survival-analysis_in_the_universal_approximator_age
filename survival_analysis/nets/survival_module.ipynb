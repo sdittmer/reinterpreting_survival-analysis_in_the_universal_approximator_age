{
 "cells": [
  {
   "cell_type": "code",
   "execution_count": null,
   "id": "a95d06fc-db81-4c38-92d3-0a0bc9a5ad50",
   "metadata": {},
   "outputs": [],
   "source": [
    "import os\n",
    "import nbimporter\n",
    "\n",
    "root = os.getcwd().split(\"survival_analysis\")[0]\n",
    "os.chdir(root + \"survival_analysis\")"
   ]
  },
  {
   "cell_type": "code",
   "execution_count": null,
   "id": "3e4adcbe-d799-4046-ad54-d3f3f4683d70",
   "metadata": {},
   "outputs": [],
   "source": [
    "import torch\n",
    "import torch.nn as nn\n",
    "import numpy as np"
   ]
  },
  {
   "cell_type": "code",
   "execution_count": null,
   "id": "5225c7cc-3d3f-45df-9166-04657891545f",
   "metadata": {},
   "outputs": [],
   "source": [
    "class SurvivalModule(nn.Module):\n",
    "\n",
    "    def __init__(self, monotonic_net, t_scaling):\n",
    "        super().__init__()\n",
    "        self.Λ = monotonic_net\n",
    "        self.t_scaling = t_scaling\n",
    "\n",
    "\n",
    "    def scale_ts(self, ts):\n",
    "        ts = ts / self.t_scaling\n",
    "\n",
    "        assert torch.all(ts >= 0), \"Some ts are negative.\"\n",
    "        assert ts.shape == (ts.shape[0], 1), f\"{ts.shape=} != {(ts.shape[0], 1)=}\"\n",
    "        return ts\n",
    "\n",
    "\n",
    "    def _check_S_t_and_clamp(self, S_t, ts):\n",
    "        assert S_t.shape == (ts.shape[0], 1), f\"{S_t.shape=} != {ts.shape=}\"\n",
    "        assert torch.all(-1e-2 < S_t), f\"{torch.min(S_t)=}\"\n",
    "        assert torch.all(S_t < 1 + 1e-2), f\"{torch.max(S_t)=}\"\n",
    "        return torch.clamp(S_t, 0, 1)\n",
    "\n",
    "\n",
    "    def _check_λ_and_clamp(self, λ):\n",
    "        assert torch.all(-1e-2 < λ), f\"{torch.min(λ)=}\"\n",
    "        λ =  torch.clamp(λ, 0, np.inf)\n",
    "        return λ\n",
    "\n",
    "\n",
    "    def forward(self, ts, xs=None):\n",
    "        ts = self.scale_ts(ts)\n",
    "\n",
    "        λ = self.Λ(t=ts, z=xs)\n",
    "        λ = self._check_λ_and_clamp(λ)\n",
    "\n",
    "        S_t = torch.exp(-λ)\n",
    "        S_t = self._check_S_t_and_clamp(S_t, ts)\n",
    "        return S_t"
   ]
  },
  {
   "cell_type": "code",
   "execution_count": null,
   "id": "4047d7e0-6ff1-441a-807d-8bc818725800",
   "metadata": {},
   "outputs": [],
   "source": []
  }
 ],
 "metadata": {
  "kernelspec": {
   "display_name": "Python 3 (ipykernel)",
   "language": "python",
   "name": "python3"
  }
 },
 "nbformat": 4,
 "nbformat_minor": 5
}
