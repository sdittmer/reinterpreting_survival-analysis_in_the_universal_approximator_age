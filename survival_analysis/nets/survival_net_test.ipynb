{
 "cells": [
  {
   "cell_type": "code",
   "execution_count": null,
   "id": "a95d06fc-db81-4c38-92d3-0a0bc9a5ad50",
   "metadata": {},
   "outputs": [],
   "source": [
    "import os\n",
    "import nbimporter\n",
    "\n",
    "root = os.getcwd().split(\"survival_analysis\")[0]\n",
    "os.chdir(root + \"survival_analysis\")"
   ]
  },
  {
   "cell_type": "code",
   "execution_count": null,
   "id": "3e4adcbe-d799-4046-ad54-d3f3f4683d70",
   "metadata": {},
   "outputs": [],
   "source": [
    "import torch"
   ]
  },
  {
   "cell_type": "code",
   "execution_count": null,
   "id": "3067e0ef-b1c6-4382-a2f4-984e6f917c50",
   "metadata": {},
   "outputs": [],
   "source": [
    "from nets.survival_net import SurvivalNN"
   ]
  },
  {
   "cell_type": "markdown",
   "id": "245d2a55-cccb-4ffe-87be-782f4b86e2c5",
   "metadata": {},
   "source": [
    "# Tests"
   ]
  },
  {
   "cell_type": "code",
   "execution_count": null,
   "id": "8dbea3c9-7e04-4031-a940-e87ad05aaddb",
   "metadata": {},
   "outputs": [],
   "source": [
    "def test_that_we_can_instanciate_SurvivalNN():\n",
    "    net = SurvivalNN( 8, 10, 1.2)\n",
    "    net = SurvivalNN( 4,  1, 5.5)\n",
    "    net = SurvivalNN(22, 23, 7.9)\n",
    "\n",
    "\n",
    "test_that_we_can_instanciate_SurvivalNN()"
   ]
  },
  {
   "cell_type": "code",
   "execution_count": null,
   "id": "e02685be-e3cf-4d26-8e82-d8bb72d60441",
   "metadata": {},
   "outputs": [],
   "source": [
    "def test_that_we_can_call_SurvivalNN_and_the_output_has_the_correct_shape(batch_size=8):\n",
    "    net = SurvivalNN(32, 64, 1)\n",
    "\n",
    "    ts = torch.rand(batch_size, 1)\n",
    "    xs = torch.randn(batch_size, 32)\n",
    "    S = net(ts=ts, xs=xs)\n",
    "    assert S.shape == ts.shape\n",
    "\n",
    "\n",
    "test_that_we_can_call_SurvivalNN_and_the_output_has_the_correct_shape()"
   ]
  },
  {
   "cell_type": "code",
   "execution_count": null,
   "id": "c0457466-afc2-42ac-abff-aac39c9777f7",
   "metadata": {},
   "outputs": [],
   "source": [
    "def test_that_SurvivalNNs_output_is_decreasing_in_time():\n",
    "    net = SurvivalNN(32, 64, 1)\n",
    "\n",
    "    ts = torch.linspace(0, 1, 100).view(100, 1)\n",
    "    x = torch.randn(32)\n",
    "    xs = torch.stack([x] * 100)\n",
    "    assert xs.shape == (100, 32)\n",
    "\n",
    "    S = net(ts=ts, xs=xs)\n",
    "    assert S.shape == (100, 1)\n",
    "\n",
    "    S = S.flatten()\n",
    "\n",
    "    assert torch.all(S[:-1] >= S[1:])\n",
    "\n",
    "\n",
    "\n",
    "test_that_SurvivalNNs_output_is_decreasing_in_time()"
   ]
  },
  {
   "cell_type": "code",
   "execution_count": null,
   "id": "47aa7c2e-c5ec-4f44-b956-9ce29f18ba53",
   "metadata": {},
   "outputs": [],
   "source": []
  }
 ],
 "metadata": {
  "kernelspec": {
   "display_name": "Python 3 (ipykernel)",
   "language": "python",
   "name": "python3"
  }
 },
 "nbformat": 4,
 "nbformat_minor": 5
}
