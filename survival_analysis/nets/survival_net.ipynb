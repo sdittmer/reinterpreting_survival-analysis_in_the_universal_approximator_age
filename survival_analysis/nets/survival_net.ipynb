{
 "cells": [
  {
   "cell_type": "code",
   "execution_count": null,
   "id": "a95d06fc-db81-4c38-92d3-0a0bc9a5ad50",
   "metadata": {},
   "outputs": [],
   "source": [
    "import os\n",
    "import nbimporter\n",
    "\n",
    "root = os.getcwd().split(\"survival_analysis\")[0]\n",
    "os.chdir(root + \"survival_analysis\")"
   ]
  },
  {
   "cell_type": "code",
   "execution_count": null,
   "id": "3e4adcbe-d799-4046-ad54-d3f3f4683d70",
   "metadata": {},
   "outputs": [],
   "source": [
    "import torch.nn as nn"
   ]
  },
  {
   "cell_type": "code",
   "execution_count": null,
   "id": "aacda3e4-4148-4153-a641-8429f0521f60",
   "metadata": {},
   "outputs": [],
   "source": [
    "from nets.survival_module import SurvivalModule\n",
    "from nets.monotone_module import MonotonicIncreasingNet"
   ]
  },
  {
   "cell_type": "code",
   "execution_count": null,
   "id": "b6b67338-a026-4d98-a82c-2fcb30a39769",
   "metadata": {},
   "outputs": [],
   "source": [
    "class SurvivalNet(nn.Module):\n",
    "\n",
    "    def __init__(self, name, feature_model, survival_module):\n",
    "        super().__init__()\n",
    "        self.survival_module = survival_module\n",
    "        self.feature_model = feature_model\n",
    "        self.name = name\n",
    "\n",
    "\n",
    "    def forward(self, ts, xs):\n",
    "        ts.requires_grad_(True)\n",
    "        zs = self.feature_model(xs)\n",
    "        S_t = self.survival_module(ts=ts, xs=zs)\n",
    "        return S_t"
   ]
  },
  {
   "cell_type": "code",
   "execution_count": null,
   "id": "e6d0aea2-afe1-49a1-80a1-b3a021234202",
   "metadata": {},
   "outputs": [],
   "source": [
    "class SurvivalNetAssembler(SurvivalNet):\n",
    "\n",
    "    def __init__(self,  n_input_features, n_latent_features, t_scaling, depth, width, depth_fm, width_fm):\n",
    "        name = self._get_name()\n",
    "        feature_model = self._get_feature_model(n_input_features, n_latent_features, depth_fm, width_fm)\n",
    "        survival_module = self._get_survival_module(n_latent_features, depth, width, t_scaling)\n",
    "\n",
    "        super().__init__(name, feature_model, survival_module)\n",
    "\n",
    "\n",
    "    def _get_name(self):\n",
    "        raise NotImplemented()\n",
    "\n",
    "\n",
    "    def _get_feature_model(self, n_input_features, n_latent_features, depth_fm, width_fm):\n",
    "        raise NotImplemented()\n",
    "\n",
    "\n",
    "    def _get_survival_module(self, n_latent_features, depth, width, t_scaling):\n",
    "        raise NotImplemented()"
   ]
  },
  {
   "cell_type": "code",
   "execution_count": null,
   "id": "68d7b00f-127b-40bc-89ca-b68db8e3e366",
   "metadata": {},
   "outputs": [],
   "source": [
    "class SurvivalNN(SurvivalNetAssembler):\n",
    "\n",
    "    def __init__(self, n_input_features, n_latent_features, t_scaling, depth=5, width=32, depth_fm=3, width_fm=32):\n",
    "        super().__init__(n_input_features, n_latent_features, t_scaling, depth, width, depth_fm, width_fm)\n",
    "\n",
    "\n",
    "    def _get_name(self):\n",
    "        return \"SurvivalNN\"\n",
    "\n",
    "\n",
    "    def _get_feature_model(self, n_input_features, n_latent_features, depth_fm, width_fm):\n",
    "        depth=depth_fm\n",
    "        width=width_fm\n",
    "\n",
    "        layers = []\n",
    "        layers.append(nn.Linear(n_input_features, width))\n",
    "        layers.append(nn.ReLU())\n",
    "        layers.append(nn.LayerNorm(width))\n",
    "\n",
    "        for i in range(depth-2):\n",
    "            layers.append(nn.Linear(width, width))\n",
    "            layers.append(nn.ReLU())\n",
    "            layers.append(nn.LayerNorm(width))\n",
    "\n",
    "        layers.append(nn.Linear(width, n_latent_features))\n",
    "        layers.append(nn.ReLU())\n",
    "        layers.append(nn.LayerNorm(n_latent_features))\n",
    "\n",
    "        return nn.Sequential(*layers)\n",
    "\n",
    "\n",
    "    def _get_survival_module(self, n_latent_features, depth, width, t_scaling):\n",
    "        monotonic_net = MonotonicIncreasingNet(latent_sizes=[n_latent_features] + [width]*depth)\n",
    "        return SurvivalModule(monotonic_net, t_scaling)"
   ]
  },
  {
   "cell_type": "code",
   "execution_count": null,
   "id": "8dbea3c9-7e04-4031-a940-e87ad05aaddb",
   "metadata": {},
   "outputs": [],
   "source": []
  }
 ],
 "metadata": {
  "kernelspec": {
   "display_name": "Python 3 (ipykernel)",
   "language": "python",
   "name": "python3"
  }
 },
 "nbformat": 4,
 "nbformat_minor": 5
}
