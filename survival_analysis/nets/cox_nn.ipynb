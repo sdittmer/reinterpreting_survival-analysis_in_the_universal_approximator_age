{
 "cells": [
  {
   "cell_type": "markdown",
   "id": "9c4c7cd2",
   "metadata": {},
   "source": [
    "# Cox Model"
   ]
  },
  {
   "cell_type": "code",
   "execution_count": null,
   "id": "42884fe2-d2a3-4445-813e-f65ef4224195",
   "metadata": {},
   "outputs": [],
   "source": [
    "import os\n",
    "import nbimporter\n",
    "\n",
    "root = os.getcwd().split(\"survival_analysis\")[0]\n",
    "os.chdir(root + \"survival_analysis\")"
   ]
  },
  {
   "cell_type": "code",
   "execution_count": null,
   "id": "0e17ce3f-fe09-49af-9a39-a0310fd363f3",
   "metadata": {},
   "outputs": [],
   "source": [
    "import copy\n",
    "import torch\n",
    "import torch.nn as nn"
   ]
  },
  {
   "cell_type": "code",
   "execution_count": null,
   "id": "8ed7a942-9272-4689-b756-bd5fd9cd6d38",
   "metadata": {},
   "outputs": [],
   "source": [
    "from nets.monotone_module import Exp"
   ]
  },
  {
   "cell_type": "markdown",
   "id": "2cea55f8",
   "metadata": {},
   "source": [
    "# CoxNN"
   ]
  },
  {
   "cell_type": "code",
   "execution_count": null,
   "id": "82c38901-742e-4e20-a9ef-9ea4a53dc01f",
   "metadata": {},
   "outputs": [],
   "source": [
    "class CoxNN(nn.Module):\n",
    "\n",
    "    def __init__(self, n_input_features, monotonic_increasing_net, t_scaling):\n",
    "        super().__init__()\n",
    "        self.name = \"CoxNN\"\n",
    "        self.n_input_features = n_input_features\n",
    "        self.Λ_0 = monotonic_increasing_net\n",
    "        self.t_scaling = t_scaling\n",
    "\n",
    "        self.accelerator_model = self.get_accelerator_model()\n",
    "\n",
    "\n",
    "    def get_accelerator_model(self):\n",
    "        return nn.Sequential(\n",
    "            torch.nn.Linear(self.n_input_features, 1, bias=False),\n",
    "            Exp()\n",
    "        )\n",
    "\n",
    "\n",
    "    def forward(self, xs, ts):\n",
    "        assert ts.shape == (ts.shape[0], 1)\n",
    "        assert torch.all(ts >= 0), \"found negative t\"\n",
    "\n",
    "        ts.requires_grad_(True)\n",
    "        ts = ts / self.t_scaling\n",
    "\n",
    "        Λ_0_ts = self.Λ_0(t=ts)\n",
    "        acceleration = self.accelerator_model(xs)\n",
    "\n",
    "        S_t = torch.exp(-acceleration * Λ_0_ts)\n",
    "\n",
    "        assert S_t.shape == (ts.shape[0], 1)\n",
    "        assert Λ_0_ts.shape == (ts.shape[0], 1), Λ_0_ts.shape\n",
    "        assert acceleration.shape == (ts.shape[0], 1), acceleration.shape\n",
    "        return S_t"
   ]
  },
  {
   "cell_type": "markdown",
   "id": "001131b9-d9be-4205-8cd5-925336b3c93e",
   "metadata": {},
   "source": [
    "# CoxTimeDependentNN"
   ]
  },
  {
   "cell_type": "code",
   "execution_count": null,
   "id": "9d358ac5-031f-4f09-b9b2-57ef8105aaaf",
   "metadata": {},
   "outputs": [],
   "source": [
    "class CoxTimeDependentNN(nn.Module):\n",
    "\n",
    "    def __init__(self, n_input_features, monotonic_increasing_net_baseline, monotonic_increasing_net_coefficients, t_scaling):\n",
    "        super().__init__()\n",
    "        self.name = \"CoxTimeDependentNN\"\n",
    "        self.n_input_features = n_input_features\n",
    "        self.Λ_0 = monotonic_increasing_net_baseline\n",
    "\n",
    "        self.coeff_net_positive = copy.deepcopy(monotonic_increasing_net_coefficients)\n",
    "        self.coeff_net_negative = copy.deepcopy(monotonic_increasing_net_coefficients)\n",
    "\n",
    "        self.t_scaling = t_scaling\n",
    "        self.offset = nn.Parameter(torch.randn(1, self.n_input_features) * .1)\n",
    "\n",
    "\n",
    "    def accelerator_positive(self, ts, xs):\n",
    "        coeff = self.coeff_net_positive(ts, survival=False)\n",
    "        ys = torch.mean(coeff * torch.relu(xs + self.offset), dim=-1, keepdim=True)\n",
    "        return torch.exp(ys)\n",
    "\n",
    "\n",
    "    def accelerator_negative(self, ts, xs):\n",
    "        coeff  = self.coeff_net_negative(ts, survival=False)\n",
    "        coeff -= self.coeff_net_negative(torch.zeros_like(ts), survival=False)\n",
    "        coeff += self.coeff_net_positive(torch.zeros_like(ts), survival=False)\n",
    "\n",
    "        ys = torch.mean(coeff * torch.relu(-(xs + self.offset)), dim=-1, keepdim=True)\n",
    "        return torch.exp(ys)\n",
    "\n",
    "\n",
    "    def forward(self, xs, ts):\n",
    "        assert torch.all(ts >= 0), \"negative ts\"\n",
    "        assert ts.shape == (ts.shape[0], 1), f\"{ts.shape=}\"\n",
    "        assert ts.shape[0] == xs.shape[0], f\"{ts.shape=}, {xs.shape=}\"\n",
    "\n",
    "        ts.requires_grad_(True)\n",
    "        ts = ts / self.t_scaling\n",
    "\n",
    "        Λ_0_ts = self.Λ_0(t=ts)\n",
    "        acceleration = self.accelerator_positive(ts, xs) * self.accelerator_negative(ts, xs)\n",
    "\n",
    "        S_t = torch.exp(-acceleration * Λ_0_ts)\n",
    "\n",
    "        assert acceleration.shape == (xs.shape[0], 1)\n",
    "        assert Λ_0_ts.shape == (ts.shape[0], 1), Λ_0_ts.shape\n",
    "        assert acceleration.shape == (ts.shape[0], 1), acceleration.shape\n",
    "        assert S_t.shape == (ts.shape[0], 1), f\"{S_t.shape=}, {ts.shape=}\"\n",
    "        return S_t"
   ]
  },
  {
   "cell_type": "code",
   "execution_count": null,
   "id": "b96d610e-22d0-48c8-8bb0-8a5a62811488",
   "metadata": {},
   "outputs": [],
   "source": []
  }
 ],
 "metadata": {
  "kernelspec": {
   "display_name": "Python 3 (ipykernel)",
   "language": "python",
   "name": "python3"
  }
 },
 "nbformat": 4,
 "nbformat_minor": 5
}
