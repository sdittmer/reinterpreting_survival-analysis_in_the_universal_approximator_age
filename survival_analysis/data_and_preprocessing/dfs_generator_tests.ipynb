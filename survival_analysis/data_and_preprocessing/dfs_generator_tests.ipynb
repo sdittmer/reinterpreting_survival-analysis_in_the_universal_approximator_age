{
 "cells": [
  {
   "cell_type": "code",
   "execution_count": null,
   "id": "7641edf7-05c1-4680-be35-2dd16ef4f1b6",
   "metadata": {},
   "outputs": [],
   "source": [
    "import os\n",
    "import nbimporter\n",
    "\n",
    "root = os.getcwd().split(\"survival_analysis\")[0]\n",
    "os.chdir(root + \"survival_analysis\")"
   ]
  },
  {
   "cell_type": "code",
   "execution_count": null,
   "id": "2bbdf62c-2844-4fb3-9bf1-2657b9f91a83",
   "metadata": {},
   "outputs": [],
   "source": [
    "from data_and_preprocessing.dfs_generator import Gbsg2Generator, RecurGenerator, LymphGenerator, CaliforniaHousingGenerator"
   ]
  },
  {
   "cell_type": "code",
   "execution_count": null,
   "id": "8d39f788-b037-4c61-aad0-1b436f94c8ae",
   "metadata": {},
   "outputs": [],
   "source": [
    "import numpy as np"
   ]
  },
  {
   "cell_type": "markdown",
   "id": "a8d31882",
   "metadata": {
    "tags": []
   },
   "source": [
    "# Tests"
   ]
  },
  {
   "cell_type": "code",
   "execution_count": null,
   "id": "15669851-e407-4a2b-a635-fb318edce2c1",
   "metadata": {
    "tags": []
   },
   "outputs": [],
   "source": [
    "def get_all_generators():\n",
    "    gbsg2 = Gbsg2Generator()\n",
    "    recur = RecurGenerator()\n",
    "    lymph = LymphGenerator()\n",
    "    calif = CaliforniaHousingGenerator()\n",
    "    return [gbsg2, recur, lymph, calif]"
   ]
  },
  {
   "cell_type": "code",
   "execution_count": null,
   "id": "54aea2cb-19af-4f25-9541-098b8bb6e903",
   "metadata": {
    "tags": []
   },
   "outputs": [],
   "source": [
    "def test_that_we_can_instanciate_the_df_generators():\n",
    "    get_all_generators()\n",
    "\n",
    "\n",
    "test_that_we_can_instanciate_the_df_generators()"
   ]
  },
  {
   "cell_type": "code",
   "execution_count": null,
   "id": "b796b6bc-c2e9-4838-88bf-c9c7c36b8184",
   "metadata": {},
   "outputs": [],
   "source": [
    "def test_that_we_can_call_the_df_generators():\n",
    "    df_generators = get_all_generators()\n",
    "\n",
    "    for df_generator in df_generators:\n",
    "        dfs_a = df_generator(horizon=2.1, normalization=None, adjust=False)\n",
    "        dfs_b = df_generator(horizon=None, normalization=None, adjust=False)\n",
    "\n",
    "        dfs_c = df_generator(horizon=2.1, normalization=\"mean_std\", adjust=False)\n",
    "        dfs_d = df_generator(horizon=None, normalization=\"mean_std\", adjust=False)\n",
    "\n",
    "        dfs_e = df_generator(horizon=2.1, normalization=None, adjust=True)\n",
    "        dfs_f = df_generator(horizon=2.1, normalization=\"mean_std\", adjust=True)\n",
    "\n",
    "\n",
    "test_that_we_can_call_the_df_generators()"
   ]
  },
  {
   "cell_type": "code",
   "execution_count": null,
   "id": "7c1aa407-7c7b-46ff-a027-193dc6c8bcb3",
   "metadata": {},
   "outputs": [],
   "source": [
    "def test_that_we_have_some_basic_inequalities():\n",
    "    df_generators = get_all_generators()\n",
    "\n",
    "    for df_generator in df_generators:\n",
    "        dfs_a = df_generator(horizon=2.1, normalization=None, adjust=False)\n",
    "        dfs_b = df_generator(horizon=None, normalization=None, adjust=False)\n",
    "\n",
    "        dfs_c = df_generator(horizon=2.1, normalization=\"mean_std\", adjust=False)\n",
    "        dfs_d = df_generator(horizon=None, normalization=\"mean_std\", adjust=False)\n",
    "\n",
    "        for part, df_a in dfs_a.items():\n",
    "            df_b = dfs_b[part]\n",
    "            if df_a.shape == df_b.shape:\n",
    "                assert np.any(df_a != df_b)\n",
    "\n",
    "            df_c = dfs_c[part]\n",
    "            if df_a.shape == df_c.shape:\n",
    "                assert np.any(df_a != df_c)\n",
    "\n",
    "            df_d = dfs_d[part]\n",
    "            if df_a.shape == df_d.shape:\n",
    "                assert np.any(df_a != df_d)\n",
    "\n",
    "\n",
    "test_that_we_have_some_basic_inequalities()"
   ]
  },
  {
   "cell_type": "code",
   "execution_count": null,
   "id": "a2876569-3fe3-462a-9038-51afc9533054",
   "metadata": {},
   "outputs": [],
   "source": []
  }
 ],
 "metadata": {
  "kernelspec": {
   "display_name": "Python 3 (ipykernel)",
   "language": "python",
   "name": "python3"
  },
  "language_info": {
   "codemirror_mode": {
    "name": "ipython",
    "version": 3
   },
   "file_extension": ".py",
   "mimetype": "text/x-python",
   "name": "python",
   "nbconvert_exporter": "python",
   "pygments_lexer": "ipython3",
   "version": "3.10.6"
  }
 },
 "nbformat": 4,
 "nbformat_minor": 5
}
