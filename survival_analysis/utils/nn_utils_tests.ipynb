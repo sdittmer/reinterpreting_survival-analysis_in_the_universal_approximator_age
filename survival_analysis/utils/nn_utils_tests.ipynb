{
 "cells": [
  {
   "cell_type": "code",
   "execution_count": null,
   "id": "c1ca9023-ef05-4e54-a02e-98854bc4976b",
   "metadata": {},
   "outputs": [],
   "source": [
    "import os\n",
    "import nbimporter\n",
    "\n",
    "root = os.getcwd().split(\"survival_analysis\")[0]\n",
    "os.chdir(root + \"survival_analysis\")"
   ]
  },
  {
   "cell_type": "code",
   "execution_count": null,
   "id": "3ba11a7d-494d-4f93-8dc6-f2945f867976",
   "metadata": {},
   "outputs": [],
   "source": [
    "import pickle"
   ]
  },
  {
   "cell_type": "code",
   "execution_count": null,
   "id": "df2b3a70-eb6f-4ead-8b86-68c031243170",
   "metadata": {},
   "outputs": [],
   "source": [
    "from nets.cox_nn import CoxNN\n",
    "from utils.nn_utils import NetTrainer, WeightedBCELoss, SuMoLoss\n",
    "from nets.monotone_module import MonotonicIncreasingNet\n",
    "from data_and_preprocessing.dfs_generator import LymphGenerator"
   ]
  },
  {
   "cell_type": "markdown",
   "id": "cdd82573",
   "metadata": {},
   "source": [
    "# Tests"
   ]
  },
  {
   "cell_type": "code",
   "execution_count": null,
   "id": "cdd481b1-b789-4415-97d4-e3d471e7e079",
   "metadata": {},
   "outputs": [],
   "source": [
    "df_generator = pickle.load(open(\"data_and_preprocessing/df_generator_lymph.pickle\", \"rb\" ))\n",
    "os.mkdir(\"trained_models/lymph\")"
   ]
  },
  {
   "cell_type": "markdown",
   "id": "409298b8-54fd-4cdd-8a83-bbc0cff02a97",
   "metadata": {},
   "source": [
    "# WeightedBCELoss training"
   ]
  },
  {
   "cell_type": "code",
   "execution_count": null,
   "id": "59ad3963-fa78-44cc-9287-48559cc106f8",
   "metadata": {},
   "outputs": [],
   "source": [
    "def test_training_with_criterion(criterion):\n",
    "    net_trainer = NetTrainer(\n",
    "        df_generator=df_generator,\n",
    "        patience_factor=1,\n",
    "        n_training_steps=128,\n",
    "        model_via_moving_average_on_validation=8,\n",
    "        criterion=criterion,\n",
    "        adjust=True,\n",
    "    )\n",
    "\n",
    "    monotonic_increasing_net = MonotonicIncreasingNet(latent_sizes=[16]*4)\n",
    "\n",
    "    model = CoxNN(\n",
    "        n_input_features=net_trainer.n_input_features,\n",
    "        monotonic_increasing_net=monotonic_increasing_net,\n",
    "        t_scaling=net_trainer.horizon,\n",
    "    )\n",
    "\n",
    "\n",
    "    model, best_val_score, model_dict = net_trainer.train_and_save(name=\"Foo\", model=model)\n",
    "\n",
    "    os.remove(f\"trained_models/{df_generator.name}/Foo.pickle\")"
   ]
  },
  {
   "cell_type": "code",
   "execution_count": null,
   "id": "77a049fc-ee1e-4129-82ea-851b2417da53",
   "metadata": {},
   "outputs": [],
   "source": [
    "def test_training_with_WeightedBCELoss():\n",
    "    criterion = WeightedBCELoss(σ_gaussian_delta=1)\n",
    "    test_training_with_criterion(criterion)\n",
    "\n",
    "\n",
    "test_training_with_WeightedBCELoss()"
   ]
  },
  {
   "cell_type": "code",
   "execution_count": null,
   "id": "aecb9e3b-e2bf-4303-bfed-e261df06b26e",
   "metadata": {},
   "outputs": [],
   "source": [
    "def test_training_with_SuMoLoss():\n",
    "    criterion = SuMoLoss()\n",
    "    test_training_with_criterion(criterion)\n",
    "\n",
    "\n",
    "test_training_with_SuMoLoss()"
   ]
  },
  {
   "cell_type": "code",
   "execution_count": null,
   "id": "0f9feba0-3edc-45aa-8088-b6a2cde94ce9",
   "metadata": {},
   "outputs": [],
   "source": []
  }
 ],
 "metadata": {
  "kernelspec": {
   "display_name": "Python 3 (ipykernel)",
   "language": "python",
   "name": "python3"
  }
 },
 "nbformat": 4,
 "nbformat_minor": 5
}
