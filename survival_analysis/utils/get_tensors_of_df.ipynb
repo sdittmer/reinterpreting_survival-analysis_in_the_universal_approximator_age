{
 "cells": [
  {
   "cell_type": "code",
   "execution_count": null,
   "id": "039b78d5-97dc-4602-937f-c7bdc82b2b97",
   "metadata": {},
   "outputs": [],
   "source": [
    "import torch\n",
    "import numpy as np"
   ]
  },
  {
   "cell_type": "code",
   "execution_count": null,
   "id": "8fe5fb92-8df7-4d87-83a3-3efda77a3625",
   "metadata": {},
   "outputs": [],
   "source": [
    "def get_tensors_of_df(df):\n",
    "    df = df.copy()\n",
    "    columns = list(df.columns)\n",
    "    df = df[columns]\n",
    "\n",
    "    df_features = df.drop(columns=[\"duration\", \"event_observed\"])\n",
    "\n",
    "    features        = torch.tensor(df_features.values,       dtype=torch.float32)\n",
    "    durations       = torch.tensor(df.duration.values,       dtype=torch.float32).view(-1, 1)\n",
    "    event_observeds = torch.tensor(df.event_observed.values, dtype=torch.bool   ).view(-1, 1)\n",
    "\n",
    "    assert np.allclose(features.shape,        [df.shape[0], df.shape[1] - 2]), f\"{features.shape=}, {df.shape=}\"\n",
    "    assert np.allclose(durations.shape,       [df.shape[0], 1]              ), f\"{durations.shape=}, {df.shape=}\"\n",
    "    assert np.allclose(event_observeds.shape, [df.shape[0], 1]              ), f\"{event_observeds.shape=}, {df.shape=}\"\n",
    "    return features, durations, event_observeds"
   ]
  }
 ],
 "metadata": {
  "kernelspec": {
   "display_name": "Python 3 (ipykernel)",
   "language": "python",
   "name": "python3"
  }
 },
 "nbformat": 4,
 "nbformat_minor": 5
}
