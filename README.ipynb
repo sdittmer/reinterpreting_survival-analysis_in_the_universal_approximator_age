{
 "cells": [
  {
   "cell_type": "markdown",
   "id": "e1046320-20b6-4451-9a26-350752ce6786",
   "metadata": {},
   "source": [
    "# Accompanying code of the paper *Reinterpreting survival analysis in the universal approximator age*"
   ]
  },
  {
   "cell_type": "markdown",
   "id": "c51e8a7c-a133-4396-be50-e00013fa38e3",
   "metadata": {},
   "source": [
    "## How to run the code\n",
    "1. Run the notebook `data_and_preprocessing/dfs_generator.ipynb` to create and pickle a dataset object for each dataset.\n",
    "    * Datasets: `california`, `gbsg2`, `lymph`, and `recur`.\n",
    "2. Run the notebook `training/train_lifelines_models.ipynb` to train the classical survival models via the [`lifelines` library](https://lifelines.readthedocs.io/en/latest/).\n",
    "3. Run the notebook `training/train_nets.ipynb` to train the network-based survival models.\n",
    "    * Note that it is possible to run multiple instances of this notebook. This allows the parallelization of the training processes.\n",
    "4. Run the notebook `plotting/plot.ipynb` to evaluate the models and produce tables and plots-\n",
    "    * One has to set the parameter `dataset_name` to the name of the dataset for which one wants to evaluate the models."
   ]
  },
  {
   "cell_type": "markdown",
   "id": "953183a6-8088-416b-b8af-1492b1bc8ff0",
   "metadata": {},
   "source": [
    "## Structure of Survival Modules"
   ]
  },
  {
   "cell_type": "markdown",
   "id": "c00084bd-1b6d-4116-ab42-10d1aae84eac",
   "metadata": {},
   "source": [
    "`MonotonicIncreasingNet` goes into `SurvivalModule,` and they go into `SurvivalNet,` which also requires some feature network. These things are already conveniently combined in the SurvivalNN, which uses a simple feature network.\n",
    "\n",
    "As the simple feature network of `SurvivalNN` can receive inputs from a more elaborate preprocessing feature network, we recommend using SurvivalNN. SurvivalNN is equivalent to the SuMo++ network from the paper."
   ]
  }
 ],
 "metadata": {
  "kernelspec": {
   "display_name": "Python 3 (ipykernel)",
   "language": "python",
   "name": "python3"
  },
  "language_info": {
   "codemirror_mode": {
    "name": "ipython",
    "version": 3
   },
   "file_extension": ".py",
   "mimetype": "text/x-python",
   "name": "python",
   "nbconvert_exporter": "python",
   "pygments_lexer": "ipython3",
   "version": "3.9.12"
  }
 },
 "nbformat": 4,
 "nbformat_minor": 5
}
